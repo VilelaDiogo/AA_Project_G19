{
 "cells": [
  {
   "cell_type": "markdown",
   "metadata": {
    "id": "oXlcl8lqBgAD"
   },
   "source": [
    "# Fast Style Transfer for Arbitrary Styles\n"
   ]
  },
  {
   "cell_type": "markdown",
   "metadata": {
    "id": "YeeuYzbZcJzs"
   },
   "source": [
    "Based on the model code in [magenta](https://github.com/tensorflow/magenta/tree/master/magenta/models/arbitrary_image_stylization) and the publication:\n",
    "\n",
    "[Exploring the structure of a real-time, arbitrary neural artistic stylization\n",
    "network](https://arxiv.org/abs/1705.06830).\n",
    "*Golnaz Ghiasi, Honglak Lee,\n",
    "Manjunath Kudlur, Vincent Dumoulin, Jonathon Shlens*,\n",
    "Proceedings of the British Machine Vision Conference (BMVC), 2017.\n",
    "\n",
    "Also check the [Intuitive Guide to Neural Style Transfer](https://towardsdatascience.com/light-on-math-machine-learning-intuitive-guide-to-neural-style-transfer-ef88e46697ee) in Towards Data Science by Thushan Ganegedara."
   ]
  },
  {
   "cell_type": "markdown",
   "metadata": {
    "id": "TaM8BVxrCA2E"
   },
   "source": [
    "## Setup"
   ]
  },
  {
   "cell_type": "markdown",
   "metadata": {
    "id": "I-nCo2phrNll"
   },
   "source": [
    "First, you'll need to enable GPUs for the notebook:\n",
    "\n",
    "- Navigate to Edit→Notebook Settings\n",
    "- select GPU from the Hardware Accelerator drop-down"
   ]
  },
  {
   "cell_type": "markdown",
   "metadata": {
    "id": "J65jog2ncJzt"
   },
   "source": [
    "Let's start with importing TF2 and all relevant dependencies."
   ]
  },
  {
   "cell_type": "code",
   "execution_count": null,
   "metadata": {
    "execution": {
     "iopub.execute_input": "2021-11-05T12:50:56.436654Z",
     "iopub.status.busy": "2021-11-05T12:50:56.436003Z",
     "iopub.status.idle": "2021-11-05T12:50:59.661518Z",
     "shell.execute_reply": "2021-11-05T12:50:59.661023Z"
    },
    "id": "v-KXRY5XBu2u"
   },
   "outputs": [],
   "source": [
    "import functools\n",
    "import os\n",
    "\n",
    "from matplotlib import gridspec\n",
    "import matplotlib.pylab as plt\n",
    "import numpy as np\n",
    "import tensorflow as tf\n",
    "import tensorflow_hub as hub\n",
    "\n",
    "print(\"TF Version: \", tf.__version__)\n",
    "print(\"TF Hub version: \", hub.__version__)\n",
    "print(\"Eager mode enabled: \", tf.executing_eagerly())\n",
    "print(\"GPU available: \", tf.config.list_physical_devices('GPU'))"
   ]
  },
  {
   "cell_type": "markdown",
   "metadata": {
    "id": "7-ooy3hViHR8"
   },
   "source": [
    "## Create some helper functions"
   ]
  },
  {
   "cell_type": "code",
   "execution_count": null,
   "metadata": {
    "id": "ZA2fq6PdihNT"
   },
   "outputs": [],
   "source": [
    "# @title Crop the image as a square, starting from its center\n",
    "def crop_center(image):\n",
    "  \"\"\"Returns a cropped square image.\"\"\"\n",
    "  shape = image.shape\n",
    "  new_shape = min(shape[1], shape[2])\n",
    "  offset_y = max(shape[1] - shape[2], 0) // 2\n",
    "  offset_x = max(shape[2] - shape[1], 0) // 2\n",
    "  image = tf.image.crop_to_bounding_box(\n",
    "      image, offset_y, offset_x, new_shape, new_shape)\n",
    "  return image"
   ]
  },
  {
   "cell_type": "code",
   "execution_count": null,
   "metadata": {
    "id": "CMp_pBdwiyeJ"
   },
   "outputs": [],
   "source": [
    "# @title Load the image into a TensorFlow/Keras object\n",
    "@functools.lru_cache(maxsize=None)\n",
    "def load_image(image_url, image_size=(256, 256), preserve_aspect_ratio=True):\n",
    "  \"\"\"Loads and preprocesses images.\"\"\"\n",
    "  # Cache image file locally.\n",
    "  image_path = tf.keras.utils.get_file(os.path.basename(image_url)[-128:], image_url)\n",
    "  # Load and convert to float32 numpy array, add batch dimension, and normalize to range [0, 1].\n",
    "  img = tf.io.decode_image(\n",
    "      tf.io.read_file(image_path),\n",
    "      channels=3, dtype=tf.float32)[tf.newaxis, ...]\n",
    "  img = crop_center(img)\n",
    "  img = tf.image.resize(img, image_size, preserve_aspect_ratio=True)\n",
    "  return img"
   ]
  },
  {
   "cell_type": "code",
   "execution_count": null,
   "metadata": {
    "execution": {
     "iopub.execute_input": "2021-11-05T12:50:59.672013Z",
     "iopub.status.busy": "2021-11-05T12:50:59.671350Z",
     "iopub.status.idle": "2021-11-05T12:50:59.673567Z",
     "shell.execute_reply": "2021-11-05T12:50:59.673105Z"
    },
    "id": "tsoDv_9geoZn"
   },
   "outputs": [],
   "source": [
    "# @title Show several images side by side \n",
    "def show_n(images, titles=('',)):\n",
    "  n = len(images)\n",
    "  image_sizes = [image.shape[1] for image in images]\n",
    "  w = (image_sizes[0] * 6) // 320\n",
    "  plt.figure(figsize=(w * n, w))\n",
    "  gs = gridspec.GridSpec(1, n, width_ratios=image_sizes)\n",
    "  for i in range(n):\n",
    "    plt.subplot(gs[i])\n",
    "    plt.imshow(images[i][0], aspect='equal')\n",
    "    plt.axis('off')\n",
    "    plt.title(titles[i] if len(titles) > i else '')\n",
    "  plt.show()\n"
   ]
  },
  {
   "cell_type": "markdown",
   "metadata": {
    "id": "8etHh05-CJHc"
   },
   "source": [
    "## Import images"
   ]
  },
  {
   "cell_type": "code",
   "execution_count": null,
   "metadata": {
    "id": "fEZzn7d9m_XM"
   },
   "outputs": [],
   "source": [
    "#@title Import a series of content and style images { display-mode: \"form\" }\n",
    "content_urls = dict(\n",
    "  ist1='https://www.innoenergy.com/media/1626/ist_resized.jpg',\n",
    "  ist2='https://www.ulisboa.pt/sites/ulisboa.pt/files/uo/images/ist_exterior7_copy.jpg',\n",
    "  ist3='https://www.ipfn.tecnico.ulisboa.pt/APPLAuSE/img/uptecnico.jpg',\n",
    "  lisbon='https://ak.picdn.net/shutterstock/videos/34805464/thumb/1.jpg?ip=x480'\n",
    "  )\n",
    "style_urls = dict(\n",
    "  style1='https://github.com/thushv89/exercises_thushv_dot_com/blob/master/neural_style_transfer_light_on_math_ml/data/style_1.jpg?raw=true',\n",
    "  style2='https://github.com/thushv89/exercises_thushv_dot_com/blob/master/neural_style_transfer_light_on_math_ml/data/style_3.jpg?raw=true',\n",
    "  style3='https://github.com/thushv89/exercises_thushv_dot_com/blob/master/neural_style_transfer_light_on_math_ml/data/style_6.jpg?raw=true',\n",
    "  style4='https://github.com/thushv89/exercises_thushv_dot_com/blob/master/neural_style_transfer_light_on_math_ml/data/style_7.jpg?raw=true',\n",
    "  style5='https://github.com/thushv89/exercises_thushv_dot_com/blob/master/neural_style_transfer_light_on_math_ml/data/style_8.jpg?raw=true',\n",
    "  style6='https://github.com/thushv89/exercises_thushv_dot_com/blob/master/neural_style_transfer_light_on_math_ml/data/style_9.jpg?raw=true',\n",
    "  style7='https://github.com/thushv89/exercises_thushv_dot_com/blob/master/neural_style_transfer_light_on_math_ml/data/style_10.jpg?raw=true',\n",
    "  kanagawa_great_wave='https://upload.wikimedia.org/wikipedia/commons/0/0a/The_Great_Wave_off_Kanagawa.jpg',\n",
    "  kandinsky_composition_7='https://upload.wikimedia.org/wikipedia/commons/b/b4/Vassily_Kandinsky%2C_1913_-_Composition_7.jpg',\n",
    "  hubble_pillars_of_creation='https://upload.wikimedia.org/wikipedia/commons/6/68/Pillars_of_creation_2014_HST_WFC3-UVIS_full-res_denoised.jpg',\n",
    "  van_gogh_starry_night='https://upload.wikimedia.org/wikipedia/commons/thumb/e/ea/Van_Gogh_-_Starry_Night_-_Google_Art_Project.jpg/1024px-Van_Gogh_-_Starry_Night_-_Google_Art_Project.jpg',\n",
    "  turner_nantes='https://upload.wikimedia.org/wikipedia/commons/b/b7/JMW_Turner_-_Nantes_from_the_Ile_Feydeau.jpg',\n",
    "  munch_scream='https://upload.wikimedia.org/wikipedia/commons/c/c5/Edvard_Munch%2C_1893%2C_The_Scream%2C_oil%2C_tempera_and_pastel_on_cardboard%2C_91_x_73_cm%2C_National_Gallery_of_Norway.jpg',\n",
    "  picasso_demoiselles_avignon='https://upload.wikimedia.org/wikipedia/en/4/4c/Les_Demoiselles_d%27Avignon.jpg',\n",
    "  picasso_violin='https://upload.wikimedia.org/wikipedia/en/3/3c/Pablo_Picasso%2C_1911-12%2C_Violon_%28Violin%29%2C_oil_on_canvas%2C_Kr%C3%B6ller-M%C3%BCller_Museum%2C_Otterlo%2C_Netherlands.jpg',\n",
    "  picasso_bottle_of_rum='https://upload.wikimedia.org/wikipedia/en/7/7f/Pablo_Picasso%2C_1911%2C_Still_Life_with_a_Bottle_of_Rum%2C_oil_on_canvas%2C_61.3_x_50.5_cm%2C_Metropolitan_Museum_of_Art%2C_New_York.jpg',\n",
    "  fire='https://upload.wikimedia.org/wikipedia/commons/3/36/Large_bonfire.jpg',\n",
    "  derkovits_woman_head='https://upload.wikimedia.org/wikipedia/commons/0/0d/Derkovits_Gyula_Woman_head_1922.jpg',\n",
    "  amadeo_style_life='https://upload.wikimedia.org/wikipedia/commons/8/8e/Untitled_%28Still_life%29_%281913%29_-_Amadeo_Souza-Cardoso_%281887-1918%29_%2817385824283%29.jpg',\n",
    "  derkovtis_talig='https://upload.wikimedia.org/wikipedia/commons/3/37/Derkovits_Gyula_Talig%C3%A1s_1920.jpg',\n",
    "  amadeo_cardoso='https://upload.wikimedia.org/wikipedia/commons/7/7d/Amadeo_de_Souza-Cardoso%2C_1915_-_Landscape_with_black_figure.jpg'\n",
    ")\n",
    "\n",
    "content_image_size = 384\n",
    "style_image_size = 256\n",
    "content_images = {k: load_image(v, (content_image_size, content_image_size)) for k, v in content_urls.items()}\n",
    "style_images = {k: load_image(v, (style_image_size, style_image_size)) for k, v in style_urls.items()}\n",
    "style_images = {k: tf.nn.avg_pool(style_image, ksize=[3,3], strides=[1,1], padding='SAME') for k, style_image in style_images.items()}\n"
   ]
  },
  {
   "cell_type": "markdown",
   "metadata": {
    "id": "yL2Bn5ThR1nY"
   },
   "source": [
    "## Import TF Hub module"
   ]
  },
  {
   "cell_type": "markdown",
   "metadata": {
    "id": "jzSL8lNGlTD_"
   },
   "source": [
    "Style tranfer models are Deep Learning neural networks used for this specific purpose. Generally, they have to be manually trained. However, for this tutorial, we can load pre-trained models from TensorFlow Hub, a repository of trained machine learning models. "
   ]
  },
  {
   "cell_type": "code",
   "execution_count": null,
   "metadata": {
    "execution": {
     "iopub.execute_input": "2021-11-05T12:51:02.345049Z",
     "iopub.status.busy": "2021-11-05T12:51:02.344330Z",
     "iopub.status.idle": "2021-11-05T12:51:06.791320Z",
     "shell.execute_reply": "2021-11-05T12:51:06.791753Z"
    },
    "id": "467AVDSuzBPc"
   },
   "outputs": [],
   "source": [
    "# Load TF Hub module.\n",
    "\n",
    "hub_handle = 'https://tfhub.dev/google/magenta/arbitrary-image-stylization-v1-256/2'\n",
    "hub_module = hub.load(hub_handle)"
   ]
  },
  {
   "cell_type": "markdown",
   "metadata": {
    "id": "uAR70_3wLEDB"
   },
   "source": [
    "The signature of this hub module for image stylization is:\n",
    "```\n",
    "outputs = hub_module(content_image, style_image)\n",
    "stylized_image = outputs[0]\n",
    "```\n",
    "Where `content_image`, `style_image`, and `stylized_image` are expected to be 4-D Tensors with shapes `[batch_size, image_height, image_width, 3]`.\n",
    "\n",
    "In the current example we provide only single images and therefore the batch dimension is 1, but one can use the same module to process more images at the same time.\n",
    "\n",
    "The input and output values of the images should be in the range [0, 1].\n",
    "\n",
    "The shapes of content and style image don't have to match. Output image shape\n",
    "is the same as the content image shape."
   ]
  },
  {
   "cell_type": "code",
   "execution_count": null,
   "metadata": {
    "id": "UNU01zz7ktGN"
   },
   "outputs": [],
   "source": [
    "#@title Specify the main content image and the style you want to use.  { display-mode: \"form\" }\n",
    "\n",
    "content_name = 'lisbon'  # @param ['ist1', 'ist2', 'ist3', 'lisbon']\n",
    "style_name = 'van_gogh_starry_night'  # @param ['style1','style2','style3','style4','style5','style6','style7','kanagawa_great_wave', 'kandinsky_composition_7', 'hubble_pillars_of_creation', 'van_gogh_starry_night', 'turner_nantes', 'munch_scream', 'picasso_demoiselles_avignon', 'picasso_violin', 'picasso_bottle_of_rum', 'fire', 'derkovits_woman_head', 'amadeo_style_life', 'derkovtis_talig', 'amadeo_cardoso']\n",
    "\n",
    "stylized_image = hub_module(tf.constant(content_images[content_name]),\n",
    "                            tf.constant(style_images[style_name]))[0]\n",
    "\n",
    "show_n([content_images[content_name], style_images[style_name], stylized_image],\n",
    "       titles=['Original content image', 'Style image', 'Stylized image'])"
   ]
  },
  {
   "cell_type": "markdown",
   "metadata": {
    "id": "clgtXkDMneZP"
   },
   "source": [
    "## Compare GPU vs CPU performance"
   ]
  },
  {
   "cell_type": "markdown",
   "metadata": {
    "id": "Z_LdDf_arSK7"
   },
   "source": [
    "We can confirm that it is possible to connect to the GPU with tensorflow by running the following code:"
   ]
  },
  {
   "cell_type": "code",
   "execution_count": null,
   "metadata": {
    "id": "fuwoyDTgrCuV"
   },
   "outputs": [],
   "source": [
    "%tensorflow_version 2.x\n",
    "import tensorflow as tf\n",
    "device_name = tf.test.gpu_device_name()\n",
    "if device_name != '/device:GPU:0':\n",
    "  raise SystemError('GPU device not found')\n",
    "print('Found GPU at: {}'.format(device_name))"
   ]
  },
  {
   "cell_type": "markdown",
   "metadata": {
    "id": "E4wnc0o3rGB_"
   },
   "source": [
    "If the GPU is found, we can run a style transfer example, comparing the performance of using the CPU vs using the GPU."
   ]
  },
  {
   "cell_type": "code",
   "execution_count": null,
   "metadata": {
    "id": "wwEoy6k2nldH"
   },
   "outputs": [],
   "source": [
    "#%tensorflow_version 2.x\n",
    "#import tensorflow as tf\n",
    "import timeit\n",
    "\n",
    "device_name = tf.test.gpu_device_name()\n",
    "content_id = 'ist3'\n",
    "style_id = 'munch_scream'\n",
    "\n",
    "def cpu():\n",
    "  with tf.device('/cpu:0'):\n",
    "    stylized_image_cpu = hub_module(tf.constant(content_images[content_id]),\n",
    "                            tf.constant(style_images[style_id]))[0]\n",
    "    return stylized_image_cpu\n",
    "\n",
    "def gpu():\n",
    "  with tf.device('/device:GPU:0'):\n",
    "    stylized_image_gpu = hub_module(tf.constant(content_images[content_id]),\n",
    "                            tf.constant(style_images[style_id]))[0]\n",
    "    return stylized_image_gpu\n",
    "  \n",
    "# We run each op once to warm up; see: https://stackoverflow.com/a/45067900\n",
    "stylized_image_cpu = cpu()\n",
    "stylized_image_gpu = gpu()\n",
    "\n",
    "# Run the op several times.\n",
    "cpu_time = timeit.timeit('cpu()', number=4, setup=\"from __main__ import cpu\")\n",
    "gpu_time = timeit.timeit('gpu()', number=4, setup=\"from __main__ import gpu\")\n",
    "print('Time (s) to prform a style tranfer for the style and content images shown. Sum of 4 runs')\n",
    "print('CPU (s): {:.4f}'.format(cpu_time))\n",
    "print('GPU (s): {:.4f}'.format(gpu_time))\n",
    "print('GPU speedup over CPU: {}x'.format(int(cpu_time/gpu_time)))\n",
    "\n",
    "show_n([content_images[content_id], style_images[style_id], stylized_image_cpu, stylized_image_gpu],\n",
    "       titles=['Original content image', 'Style image', 'Stylized image cpu', 'Stylized image gpu'])"
   ]
  },
  {
   "cell_type": "markdown",
   "metadata": {
    "id": "pYdkv7nzrc-S"
   },
   "source": [
    "As we can see, the performance is definitely improved. While this varies considerably from run to run, it can be expected an speedup of 10 to 20 times by using the GPU vs the CPU.\n",
    "\n",
    "This speedup rate also depends on which models are being implemented. Convolutional neural networks, which are tyipically used for images benefit greatly from using the GPU, but fully connected nets or RNNs usually do not increase substantially their performance when using the GPU. "
   ]
  },
  {
   "cell_type": "markdown",
   "metadata": {
    "id": "iumMMogtrUsX"
   },
   "source": [
    "**IMPORTANT: there are limits to the usage of Google Colab's GPUs. If you intend on running large scale machine learning models, please check Google's conditions first.**"
   ]
  },
  {
   "cell_type": "code",
   "execution_count": null,
   "metadata": {
    "id": "GIVzTyYxsRQg"
   },
   "outputs": [],
   "source": []
  }
 ],
 "metadata": {
  "accelerator": "GPU",
  "colab": {
   "collapsed_sections": [],
   "name": "Lab2_GColabb_StyleTransferGPU.ipynb",
   "private_outputs": true,
   "provenance": [],
   "toc_visible": true
  },
  "kernelspec": {
   "display_name": "Python 3",
   "language": "python",
   "name": "python3"
  },
  "language_info": {
   "codemirror_mode": {
    "name": "ipython",
    "version": 3
   },
   "file_extension": ".py",
   "mimetype": "text/x-python",
   "name": "python",
   "nbconvert_exporter": "python",
   "pygments_lexer": "ipython3",
   "version": "3.7.6"
  }
 },
 "nbformat": 4,
 "nbformat_minor": 1
}
