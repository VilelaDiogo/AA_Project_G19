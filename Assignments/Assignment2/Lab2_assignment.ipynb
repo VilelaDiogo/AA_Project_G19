{
  "cells": [
    {
      "cell_type": "markdown",
      "metadata": {
        "id": "JV5YbbVNlCLl"
      },
      "source": [
        "# Laboratory Session 2 -- Assignment\n",
        "\n",
        "To be delivered until 2022-12-16 23:59:59."
      ]
    },
    {
      "cell_type": "markdown",
      "metadata": {
        "id": "A746fsNRldR4"
      },
      "source": [
        "## Section 1 -- Linear Regression\n",
        "\n",
        "**1.** Consider a dataset with 100 observations, containing a single predictor and a quantitative response. Two different models are fitted to the data, a linear regression ($m_1: Y = \\beta_0 + \\beta_1 X + \\epsilon$) and a cubic regression ($m_2: Y = \\beta_0 + \\beta_1 X + \\beta_2 X^2 + \\beta_3 X^3 + \\epsilon$)."
      ]
    },
    {
      "cell_type": "markdown",
      "metadata": {
        "id": "gOuCfx3sm8hZ"
      },
      "source": [
        "**1.a)** Suppose that the actual relation between X and Y is linear. Can the **training** residual sum of squares (RSS) of the linear model be expected to be smaller, larger or equal to the one from the cubic model? Or is there no information to tell? Justify your answer."
      ]
    },
    {
      "cell_type": "code",
      "execution_count": null,
      "metadata": {
        "id": "h6V7QbAN6BIt"
      },
      "outputs": [],
      "source": []
    },
    {
      "cell_type": "markdown",
      "metadata": {
        "id": "f-Z6e3nem88s"
      },
      "source": [
        "**1.b)** Answer question 1.a) considering the test RSS rather than the training RSS."
      ]
    },
    {
      "cell_type": "code",
      "execution_count": null,
      "metadata": {
        "id": "8Ng5yyIL7sUE"
      },
      "outputs": [],
      "source": []
    },
    {
      "cell_type": "markdown",
      "metadata": {
        "id": "gmhX35ckm9St"
      },
      "source": [
        "**1.c)** Suppose that the actual relationship between X and Y is not linear, but it is not known how far it is from being linear. What is it expected of the the **training** RSS for the linear compared with the cubic models? Or is there not enough information? Justify your answer."
      ]
    },
    {
      "cell_type": "code",
      "execution_count": null,
      "metadata": {
        "id": "l3JRaXd28SUz"
      },
      "outputs": [],
      "source": []
    },
    {
      "cell_type": "markdown",
      "metadata": {
        "id": "68b9Gt-Sm9lp"
      },
      "source": [
        "**1.d)** Answer question 1.c) considering the test RSS rather than the training RSS."
      ]
    },
    {
      "cell_type": "code",
      "execution_count": null,
      "metadata": {
        "id": "FWjI9xe36tk2"
      },
      "outputs": [],
      "source": []
    },
    {
      "cell_type": "markdown",
      "metadata": {
        "id": "JlY6gihzHUm5"
      },
      "source": [
        "**2.a)** Load the dataset \"wine.csv\". Do not change the dataset file."
      ]
    },
    {
      "cell_type": "code",
      "execution_count": 97,
      "metadata": {
        "id": "UJxs-3Vp9IhJ"
      },
      "outputs": [],
      "source": [
        "import csv\n",
        "import os\n",
        "import numpy as np\n",
        "from copy import deepcopy\n",
        "from sklearn.linear_model import LinearRegression\n",
        "import matplotlib.pyplot as plt\n",
        "\n",
        "wines_csv = open('winequality.csv', mode='r')\n",
        "\n",
        "#Read and convert to list of lists\n",
        "wines = csv.reader(wines_csv)\n",
        "wines_list0 = list(wines)"
      ]
    },
    {
      "cell_type": "markdown",
      "metadata": {
        "id": "l80LrS4WLQ4J"
      },
      "source": [
        "**2.b)** Encode the feature \"type\"."
      ]
    },
    {
      "cell_type": "code",
      "execution_count": 103,
      "metadata": {
        "id": "wMc4Q290LQ4J"
      },
      "outputs": [],
      "source": [
        "wines_list = deepcopy(wines_list0)\n",
        "\n",
        "#Encode\n",
        "i = 0\n",
        "for item in wines_list:\n",
        "  wines_list[i] = item[0].split(';')\n",
        "  j = 0\n",
        "  for subitem in wines_list[i]:\n",
        "    try:\n",
        "      wines_list[i][j] = float(subitem)\n",
        "    except:\n",
        "      if subitem == 'red':\n",
        "        wines_list[i][j] = 0\n",
        "      elif subitem == 'white':\n",
        "        wines_list[i][j] = 1\n",
        "      pass\n",
        "    j+=1\n",
        "  i += 1\n"
      ]
    },
    {
      "cell_type": "markdown",
      "metadata": {
        "id": "BM90R_i8OCik"
      },
      "source": [
        "**2.c)** Perform a simple linear regression considering *quality* as the response and *pH* as the predictor. Given the results, comment on the following statements:"
      ]
    },
    {
      "cell_type": "code",
      "execution_count": 104,
      "metadata": {
        "id": "teI35X_p9TAM",
        "colab": {
          "base_uri": "https://localhost:8080/"
        },
        "outputId": "7f912d3b-b22c-44b6-8702-e2a3c4c7d66d"
      },
      "outputs": [
        {
          "output_type": "stream",
          "name": "stdout",
          "text": [
            "R^2: 0.00038047247739547707\n"
          ]
        }
      ],
      "source": [
        "#Extract features\n",
        "wines_list_copy = deepcopy(wines_list)\n",
        "features = wines_list_copy.pop(0)\n",
        "\n",
        "#Make dict with features and respective index (may be useful later)\n",
        "features_dict = {}\n",
        "for i, feat in enumerate(features): features_dict[feat] = i \n",
        "\n",
        "#Convert to np.array\n",
        "wines_list_np = np.array(wines_list_copy)\n",
        "\n",
        "#Get X and Y\n",
        "X = wines_list_np[:,features_dict['pH']].reshape((-1, 1))\n",
        "Y = wines_list_np[:,features_dict['quality']]\n",
        "\n",
        "#Initialize Model\n",
        "model = LinearRegression()\n",
        "\n",
        "#Fit Model\n",
        "model.fit(X, Y)\n",
        "\n",
        "#Get R^2\n",
        "r_sq = model.score(X, Y)\n",
        "\n",
        "print(f\"R^2: {r_sq}\")"
      ]
    },
    {
      "cell_type": "markdown",
      "metadata": {
        "id": "2BlMbcTJOsDD"
      },
      "source": [
        "    i) Are the predictor and response statistically related?"
      ]
    },
    {
      "cell_type": "markdown",
      "source": [
        "No"
      ],
      "metadata": {
        "id": "bXeNjM-BlNB8"
      }
    },
    {
      "cell_type": "markdown",
      "metadata": {
        "id": "ir5VRfrmO8o6"
      },
      "source": [
        "    ii) How strong is the relationship between predictor and response? (*Hint: comment on the R^2 score of the model*)"
      ]
    },
    {
      "cell_type": "markdown",
      "source": [
        "Since R^2 is very small (R^2 << 0.1), the relationship is very weak."
      ],
      "metadata": {
        "id": "OCbzw6R2lSdk"
      }
    },
    {
      "cell_type": "markdown",
      "metadata": {
        "id": "D9JSjxC3O8x3"
      },
      "source": [
        "    iii) Is the relationship between the predictor and response positive or negative?"
      ]
    },
    {
      "cell_type": "code",
      "execution_count": 106,
      "metadata": {
        "id": "aWlEqpgm_bnN",
        "colab": {
          "base_uri": "https://localhost:8080/"
        },
        "outputId": "fbc9544a-0962-4698-8961-950796634477"
      },
      "outputs": [
        {
          "output_type": "stream",
          "name": "stdout",
          "text": [
            "Slope:  0.10593790034693865\n"
          ]
        }
      ],
      "source": [
        "print('Slope: ', model.coef_.item())"
      ]
    },
    {
      "cell_type": "markdown",
      "source": [
        "The slope is positive, so the relationship is positive"
      ],
      "metadata": {
        "id": "AUCKOdiSlm_9"
      }
    },
    {
      "cell_type": "markdown",
      "metadata": {
        "id": "mIzssLawO84u"
      },
      "source": [
        "    iv) What is the predicted value of quality when the pH is 9?"
      ]
    },
    {
      "cell_type": "code",
      "execution_count": 107,
      "metadata": {
        "id": "637jEcQD_r7z",
        "colab": {
          "base_uri": "https://localhost:8080/"
        },
        "outputId": "f70bc0e7-a6f5-4d2e-f375-bee2d546a489"
      },
      "outputs": [
        {
          "output_type": "stream",
          "name": "stdout",
          "text": [
            "Predicted Quality:  33.25140009025156\n"
          ]
        }
      ],
      "source": [
        "#Get Linear Regression parameters\n",
        "a1 = model.coef_\n",
        "a2 = model.intercept_\n",
        "\n",
        "#Solve equation\n",
        "def inv_lin(a,b,val):\n",
        "  return (val-b)/a\n",
        "\n",
        "print('Predicted Quality: ', inv_lin(a1,a2,9).item())"
      ]
    },
    {
      "cell_type": "markdown",
      "metadata": {
        "id": "yRYL0_TeQQfp"
      },
      "source": [
        "**2.d)** Plot a scatter plot of the response and predictor, along with the regression line."
      ]
    },
    {
      "cell_type": "code",
      "execution_count": 113,
      "metadata": {
        "id": "S7QpN6n1APVa",
        "colab": {
          "base_uri": "https://localhost:8080/",
          "height": 347
        },
        "outputId": "f98ab9a4-6819-482d-ea44-53f906a97e16"
      },
      "outputs": [
        {
          "output_type": "display_data",
          "data": {
            "text/plain": [
              "<Figure size 576x396 with 1 Axes>"
            ],
            "image/png": "[encoded data removed]"
          },
          "metadata": {}
        }
      ],
      "source": [
        "#initialize and scatter\n",
        "plt.style.use('seaborn')\n",
        "plt.clf()\n",
        "plt.scatter(X, Y, color=\"black\",s=1)\n",
        "\n",
        "#Get points to draw line\n",
        "xfit = np.array([np.amin(X), np.amax(X)])\n",
        "yfit = model.predict(xfit.reshape((-1,1)))\n",
        "\n",
        "#Plot\n",
        "plt.plot(xfit, yfit, color = 'blue')\n",
        "plt.show()"
      ]
    },
    {
      "cell_type": "markdown",
      "metadata": {
        "id": "1xBHkVadQ5Ot"
      },
      "source": [
        "## Section 2 -- Classification"
      ]
    },
    {
      "cell_type": "markdown",
      "metadata": {
        "id": "SIpGTVYkRD9A"
      },
      "source": [
        "**3)** Suppose that a dataset is divided into two equally-sized training and test sets, and then try out two different classification procedures:\n",
        "\n",
        "* The first is the logistic regression, obtaining an error rate of 20% on the training data and 30% on the test data.\n",
        "* The second is a 1-nearest neighbors, with an average error rate (averaged over test and training datasets) of 18%.\n",
        "\n",
        "Based on these results, which method is preferred for classifying new observations? Why?"
      ]
    },
    {
      "cell_type": "markdown",
      "source": [
        "ANSWER: When a 1-nearest neighbors is used (K = 1), the training sample selected is the closest to the test sample. Given that the test sample is in the training dataset, it'll always select itself as the closest and never make a mistake. So, regardless of the dataset, the training error will be zero.\n",
        "Since the average error rate for this method is equal to 18% and the training error rate is 0%, the test error rate is equal to 36%.\n",
        "Even though the training error rate for the 1-nearest neighbors method is smaller than the error rate for logistic regression, the test error rate is greater, making the logistic regression method a better choice."
      ],
      "metadata": {
        "id": "s-e1aCICSJv8"
      }
    },
    {
      "cell_type": "markdown",
      "metadata": {
        "id": "rpJxxZkFSjg3"
      },
      "source": [
        "**4.a)** Create a new column, \"quality7\", that contains a 1 if quality contains a value equal or above 7, and a 0 if quality contains a value below 7. Drop the original column \"quality\"."
      ]
    },
    {
      "cell_type": "code",
      "execution_count": 114,
      "metadata": {
        "id": "h3qCZb_OGTcD"
      },
      "outputs": [],
      "source": [
        "import seaborn as sn\n",
        "import pandas as pd\n",
        "\n",
        "#Convert to pandas data frame\n",
        "wines7 =  pd.DataFrame(wines_list_np)\n",
        "\n",
        "#Encode quality\n",
        "h = 0\n",
        "for h in range(len(wines7[12])):\n",
        "  if wines7[12][h] >= 7:\n",
        "    wines7[12][h] = 1\n",
        "  else:\n",
        "    wines7[12][h] = 0\n",
        "  h+=1\n"
      ]
    },
    {
      "cell_type": "markdown",
      "metadata": {
        "id": "xHvwjfYscqAl"
      },
      "source": [
        "**4.b)** Do a correlation matrix plot between all the columns to evaluate which features are linearly correlated. Consider a statistical significance of 0.1%. Describe your findings, with a focus on evaluating which features are most related with \"quality7\"."
      ]
    },
    {
      "cell_type": "code",
      "execution_count": 135,
      "metadata": {
        "id": "JXN8YYCgGs0K",
        "colab": {
          "base_uri": "https://localhost:8080/",
          "height": 406
        },
        "outputId": "9db08b15-ad8c-4886-ebd9-14ee00b83c36"
      },
      "outputs": [
        {
          "output_type": "display_data",
          "data": {
            "text/plain": [
              "<Figure size 576x396 with 2 Axes>"
            ],
            "image/png": "[encoded data removed]"
          },
          "metadata": {}
        },
        {
          "output_type": "stream",
          "name": "stdout",
          "text": [
            "Indexes of features with highest correlation to quality:  [ 7 10 12]\n",
            "{'fixed acidity': 0, 'volatile acidity': 1, 'citric acid': 2, 'residual sugar': 3, 'chlorides': 4, 'free sulfur dioxide': 5, 'total sulfur dioxide': 6, 'density': 7, 'pH': 8, 'sulphates': 9, 'alcohol': 10, 'type': 11, 'quality': 12}\n"
          ]
        }
      ],
      "source": [
        "#Show correlation matrix\n",
        "corr_matrix = wines7.corr()\n",
        "sn.heatmap(corr_matrix, annot=True)\n",
        "ticks = np.arange(0,12,1)\n",
        "plt.show()\n",
        "\n",
        "#Get features with highest correlation\n",
        "id_quality = features_dict['quality']\n",
        "quality_col = abs(corr_matrix[12].to_numpy())\n",
        "idxs = np.argpartition(quality_col, -3)[-3:]\n",
        "print('Indexes of features with highest correlation to quality: ', idxs)\n",
        "print(features_dict)\n"
      ]
    },
    {
      "cell_type": "markdown",
      "source": [
        "0 indicates no linear correlation between two variables. 1 indicates a perfectly positive linear correlation between two variables.\n",
        "A statistically significant test result (P ≤ 0.001) means that the test hypothesis is false or should be rejected. The features with highest correlation are the DENSITY and ALCOHOL."
      ],
      "metadata": {
        "id": "OcSUlLGxPZM1"
      }
    },
    {
      "cell_type": "markdown",
      "metadata": {
        "id": "8168IcmcSjd4"
      },
      "source": [
        "**4.c)** Create the inputs as all the predictors and outputs as the \"quality7\" feature. Split the data into test and training datasets. Consider a test dataset comprised of 30% of the whole dataset."
      ]
    },
    {
      "cell_type": "code",
      "execution_count": 136,
      "metadata": {
        "id": "Zmk2OAC3w-W6"
      },
      "outputs": [],
      "source": [
        "#Divide dataset\n",
        "training_data = wines7.sample(frac=0.7, random_state=25)\n",
        "testing_data = wines7.drop(training_data.index)\n",
        "\n",
        "#Converto to np.array\n",
        "training_data_np = training_data.to_numpy()\n",
        "testing_data_np = testing_data.to_numpy()\n",
        "\n",
        "#Divide into input and output\n",
        "X_training = training_data_np[:,:12]\n",
        "X_testing = testing_data_np[:,:12]\n",
        "Y_training = training_data_np[:,12]\n",
        "Y_testing = testing_data_np[:,12]"
      ]
    },
    {
      "cell_type": "markdown",
      "metadata": {
        "id": "IWepa-QISjbZ"
      },
      "source": [
        "**4.d)** Perform LDA on the training data in order to predict \"quality7\" using the remaining variables. What is the test error of the model obtained?"
      ]
    },
    {
      "cell_type": "code",
      "execution_count": 137,
      "metadata": {
        "id": "bQquLCRDyizP",
        "colab": {
          "base_uri": "https://localhost:8080/"
        },
        "outputId": "866b1766-aa5f-4d19-9e51-b5eb7fc7477e"
      },
      "outputs": [
        {
          "output_type": "stream",
          "name": "stdout",
          "text": [
            "Error:  0.18163160595177014\n"
          ]
        }
      ],
      "source": [
        "from sklearn.discriminant_analysis import LinearDiscriminantAnalysis as LDA\n",
        "\n",
        "#Initialize model\n",
        "lda = LDA()\n",
        "\n",
        "#Fit Model\n",
        "lda.fit(X_training, Y_training)\n",
        "\n",
        "#Get predictions\n",
        "Y_predicted = lda.predict(X_testing)\n",
        "\n",
        "#Results and print\n",
        "evaluate = Y_testing==Y_predicted\n",
        "print('Error: ', (evaluate.shape[0]-np.count_nonzero(evaluate))/evaluate.shape[0])"
      ]
    },
    {
      "cell_type": "markdown",
      "metadata": {
        "id": "YWiMguFvSjWE"
      },
      "source": [
        "**4.e)** Perform QDA on the training data in order to predict \"quality7\" using the remaining variables. What is the test error of the model obtained?"
      ]
    },
    {
      "cell_type": "code",
      "execution_count": 138,
      "metadata": {
        "id": "bvzDUm5sze_l",
        "colab": {
          "base_uri": "https://localhost:8080/"
        },
        "outputId": "a2f23ea3-6389-4fd3-c52b-8353c7e4cdb8"
      },
      "outputs": [
        {
          "output_type": "stream",
          "name": "stdout",
          "text": [
            "Error:  0.22986146741918934\n"
          ]
        }
      ],
      "source": [
        "from sklearn.discriminant_analysis import QuadraticDiscriminantAnalysis as QDA\n",
        "\n",
        "#Initialize model\n",
        "qda = QDA()\n",
        "\n",
        "#Fit Model\n",
        "qda.fit(X_training, Y_training)\n",
        "\n",
        "#Get predictions\n",
        "Y_predicted = qda.predict(X_testing)\n",
        "\n",
        "#Results and print\n",
        "evaluate = Y_testing == Y_predicted\n",
        "print('Error: ', (evaluate.shape[0]-np.count_nonzero(evaluate))/evaluate.shape[0])"
      ]
    },
    {
      "cell_type": "markdown",
      "metadata": {
        "id": "DFAhEuhSSjOz"
      },
      "source": [
        "**4.f)** Perform logistic regression on the training data in order to predict \"quality7\" using the remaining variables. What is the test error of the model obtained?"
      ]
    },
    {
      "cell_type": "code",
      "execution_count": 139,
      "metadata": {
        "id": "7oVkI9QUzufY",
        "colab": {
          "base_uri": "https://localhost:8080/"
        },
        "outputId": "e281f54b-2a25-4656-c65d-29ae305c352b"
      },
      "outputs": [
        {
          "output_type": "stream",
          "name": "stdout",
          "text": [
            "Error:  0.18163160595177014\n"
          ]
        }
      ],
      "source": [
        "import numpy\n",
        "from sklearn import linear_model\n",
        "\n",
        "#Initialize model\n",
        "logr = linear_model.LogisticRegression(solver='newton-cg', max_iter=100)\n",
        "\n",
        "#Fit Model\n",
        "logr.fit(X_training, Y_training)\n",
        "\n",
        "#Get predictions\n",
        "Y_predicted = logr.predict(X_testing)\n",
        "\n",
        "#Results and print\n",
        "evaluate = Y_testing == Y_predicted\n",
        "print('Error: ', (evaluate.shape[0]-np.count_nonzero(evaluate))/evaluate.shape[0])"
      ]
    },
    {
      "cell_type": "markdown",
      "metadata": {
        "id": "dJUvW41ViqMc"
      },
      "source": [
        "**4.g)** Perform naive Bayes on the training data in order to predict \"quality7\" using the remaining variables. What is the test error of the model obtained?"
      ]
    },
    {
      "cell_type": "code",
      "execution_count": 140,
      "metadata": {
        "id": "U6pzjPGc1y_t",
        "colab": {
          "base_uri": "https://localhost:8080/"
        },
        "outputId": "1b8d1868-6f0f-496c-9de0-bc6d6042a67c"
      },
      "outputs": [
        {
          "output_type": "stream",
          "name": "stdout",
          "text": [
            "Error:  0.27142124166239096\n"
          ]
        }
      ],
      "source": [
        "from sklearn.naive_bayes import GaussianNB\n",
        "\n",
        "#Initialize model\n",
        "gnb = GaussianNB()\n",
        "\n",
        "#Fit Model\n",
        "gnb.fit(X_training, Y_training)\n",
        "\n",
        "#Get predictions\n",
        "Y_predicted = gnb.predict(X_testing)\n",
        "\n",
        "#Results and print\n",
        "evaluate = Y_testing==Y_predicted\n",
        "print('Error: ', (evaluate.shape[0]-np.count_nonzero(evaluate))/evaluate.shape[0])"
      ]
    },
    {
      "cell_type": "markdown",
      "metadata": {
        "id": "tPRBsCLviqKm"
      },
      "source": [
        "**4.h)** Perform KNN on the training data, with several values of K, in order to predict \"quality7\" using the remaining variables. What test errors are obtained? Which value of K seems to perform the best on this data set?"
      ]
    },
    {
      "cell_type": "code",
      "execution_count": 141,
      "metadata": {
        "id": "KCXGQmN52G7W",
        "colab": {
          "base_uri": "https://localhost:8080/",
          "height": 590
        },
        "outputId": "8f8cac39-bc10-4a2c-e5f8-20f21fbe6b52"
      },
      "outputs": [
        {
          "output_type": "stream",
          "name": "stdout",
          "text": [
            "Error: with  1 neighbors 0.18419702411493075\n",
            "Error: with  3 neighbors 0.19753719856336582\n",
            "Error: with  5 neighbors 0.19343252950230888\n",
            "Error: with  7 neighbors 0.19548486403283735\n",
            "Error: with  11 neighbors 0.20112878399179066\n",
            "Error: with  17 neighbors 0.1970241149307337\n",
            "Error: with  23 neighbors 0.2016418676244228\n",
            "Error: with  29 neighbors 0.20318111852231913\n",
            "Error: with  37 neighbors 0.20318111852231913\n",
            "Error: with  45 neighbors 0.20318111852231913\n",
            "Error: with  57 neighbors 0.19856336582863007\n",
            "Error: with  69 neighbors 0.19753719856336582\n",
            "Error: with  77 neighbors 0.19805028219599793\n",
            "Error: with  99 neighbors 0.19753719856336582\n"
          ]
        },
        {
          "output_type": "display_data",
          "data": {
            "text/plain": [
              "<Figure size 576x396 with 1 Axes>"
            ],
            "image/png": "[encoded data removed]"
          },
          "metadata": {}
        }
      ],
      "source": [
        "from sklearn.neighbors import KNeighborsClassifier\n",
        "\n",
        "plt.style.use('seaborn')\n",
        "\n",
        "for neighbors in [1, 3, 5, 7, 11, 17, 23, 29, 37, 45, 57, 69, 77, 99]:\n",
        "\n",
        "  #Initialize model\n",
        "  knn = KNeighborsClassifier(n_neighbors=neighbors)\n",
        "\n",
        "  #Fit Model\n",
        "  knn.fit(X_training, Y_training)\n",
        "\n",
        "  #Get predictions\n",
        "  Y_predicted = knn.predict(X_testing)\n",
        "\n",
        "  #Results and print\n",
        "  evaluate = Y_testing==Y_predicted\n",
        "  error = (evaluate.shape[0]-np.count_nonzero(evaluate))/evaluate.shape[0]\n",
        "  print('Error: with ', neighbors,'neighbors', error)\n",
        "  plt.scatter(neighbors, error,s=100,edgecolors='black')\n",
        "\n",
        "\n",
        "plt.show()"
      ]
    },
    {
      "cell_type": "markdown",
      "source": [
        "The best k is 1."
      ],
      "metadata": {
        "id": "_2kHovrWWPT9"
      }
    },
    {
      "cell_type": "markdown",
      "metadata": {
        "id": "nvhamoK0i2WZ"
      },
      "source": [
        "**4.i)** Calculate the area under curve (AUC) for the LDA, QDA, logistic regression, naive Bayes and for the best value of K for the KNN method. Compare the results."
      ]
    },
    {
      "cell_type": "code",
      "execution_count": 142,
      "metadata": {
        "id": "1rxOt0MU8DCK",
        "colab": {
          "base_uri": "https://localhost:8080/"
        },
        "outputId": "0cae54d9-0369-42e5-97f4-50ba9e865be1"
      },
      "outputs": [
        {
          "output_type": "stream",
          "name": "stdout",
          "text": [
            "AUC for LDA is 0.8063193871225456\n",
            "AUC for QDA is 0.818987664879881\n",
            "AUC for Logistic Regression is 0.8022237029228367\n",
            "AUC for GNB is 0.7453697718284553\n",
            "AUC for KNN is 0.7290864850708912\n"
          ]
        }
      ],
      "source": [
        "from sklearn.metrics._plot.roc_curve import auc\n",
        "from sklearn.metrics import roc_auc_score\n",
        "\n",
        "#Calculate Probabilities\n",
        "Y_predicted_lda = lda.predict_proba(X_testing)[:,1]\n",
        "Y_predicted_qda = qda.predict_proba(X_testing)[:,1]\n",
        "Y_predicted_logr = logr.predict_proba(X_testing)[:,1]\n",
        "Y_predicted_gnb = gnb.predict_proba(X_testing)[:,1]\n",
        "\n",
        "#Calculate AUC\n",
        "auc_lda = roc_auc_score(Y_testing, Y_predicted_lda)\n",
        "auc_qda = roc_auc_score(Y_testing, Y_predicted_qda)\n",
        "auc_logr = roc_auc_score(Y_testing, Y_predicted_logr)\n",
        "auc_gnb = roc_auc_score(Y_testing, Y_predicted_gnb)\n",
        "\n",
        "#Same as above but for KNN\n",
        "knn = KNeighborsClassifier(n_neighbors=1)\n",
        "knn.fit(X_training, Y_training)\n",
        "Y_predicted_knn = knn.predict_proba(X_testing)[:,1]\n",
        "auc_knn = roc_auc_score(Y_testing, Y_predicted_knn)\n",
        "\n",
        "#Print results\n",
        "print('AUC for LDA is', auc_lda)\n",
        "print('AUC for QDA is', auc_qda)\n",
        "print('AUC for Logistic Regression is', auc_logr)\n",
        "print('AUC for GNB is', auc_gnb)\n",
        "print('AUC for KNN is', auc_knn)"
      ]
    },
    {
      "cell_type": "markdown",
      "metadata": {
        "id": "zxJtXEh6LQ4N"
      },
      "source": [
        "**4.j)** Plot the ROC curves for the 5 methods. Compare the results."
      ]
    },
    {
      "cell_type": "code",
      "execution_count": null,
      "metadata": {
        "id": "iNXZovNn8Wlv"
      },
      "outputs": [],
      "source": []
    },
    {
      "cell_type": "markdown",
      "metadata": {
        "id": "jEtBKnHni2GT"
      },
      "source": [
        "## Section 3 -- Bootstrap and k-Fold"
      ]
    },
    {
      "cell_type": "markdown",
      "metadata": {
        "id": "AyCSRMx2pDsm"
      },
      "source": [
        "**5.a)** Explain how the leave-one-out cross validation (LOOCV) is implemented."
      ]
    },
    {
      "cell_type": "code",
      "execution_count": null,
      "metadata": {
        "id": "Bh8t6HC49HIl"
      },
      "outputs": [],
      "source": []
    },
    {
      "cell_type": "markdown",
      "metadata": {
        "id": "MbIethdmpcwr"
      },
      "source": [
        "**5.b)** What are the advantages and disadvantages of k-Fold cross-validation relative to:\n",
        "\n",
        "1. Validation set approach.\n",
        "2. Leave One Out Cross-Validation (LOOCV)"
      ]
    },
    {
      "cell_type": "code",
      "execution_count": null,
      "metadata": {
        "id": "F_U7i3m1MYWh"
      },
      "outputs": [],
      "source": []
    },
    {
      "cell_type": "markdown",
      "metadata": {
        "id": "jOcCUxFMpAGw"
      },
      "source": [
        "## Section 4 -- Other Questions"
      ]
    },
    {
      "cell_type": "markdown",
      "metadata": {
        "id": "jUkJU0D7pFWO"
      },
      "source": [
        "**6)** In your group's option, what are the advantages and disadvantages of using a virtual environment when programming in Python?"
      ]
    },
    {
      "cell_type": "markdown",
      "source": [
        "The group's opinion about virtual environments is unanimous. These environments present various advantages, being the main one the system organization that they provide. By creating a new environment for every Python project it is possible to:\n",
        "\n",
        "* Not have the main directory full of unnecessary packages - Great for organization and prevents overwriting;\n",
        "*   Use a different Python version in each project - Useful when dealing with old programs with older versions of libraries;  \n",
        "* Keep track of packages needed for a project - When sharing the project with someone, it makes it easier to know which packages are needed in that specific project instead of presenting all the packages installed on the computer.\n",
        "\n",
        "The downsides found are not significant to the point that becomes a burden or prevents the group from using these virtual environments. \n",
        "\n",
        "*   Time consumed to install every library needed for each project - Instead of already having them installed from previous projects, the same library has to be installed in every new environment where it is needed (For the projects in hand, this task is not very time consuming);\n",
        "*   Space consumed - Some libraries may need to be installed more than once if they are needed in more than one project (However, for the projects in hand, the packages needed are not very big)."
      ],
      "metadata": {
        "id": "rhu17h1QXe8D"
      }
    },
    {
      "cell_type": "markdown",
      "metadata": {
        "id": "W8dWu7BXpFTc"
      },
      "source": [
        "**7)** In your group's opinion, in what circumstances is it better to use Jupyter Notebooks and when is it better to use Google Colab notebooks? Give some specific examples."
      ]
    },
    {
      "cell_type": "markdown",
      "source": [
        "The biggest difference between these two platforms is the fact that Google Collab is cloud-based, whereas Jupyter Notebook runs on our local hardware.\n",
        "It is better to use Google Collab when:\n",
        "\n",
        "*   A lot of collaboration is needed - Since it runs in the cloud, there is no need to install anything. Therefore, anyone may open the notebooks without downloading any software;\n",
        "*   There is a necessity to have the files backed up in a cloud system - Since it runs in the cloud, the files are automatically saved;\n",
        "*   Run code in a smartphone or a tablet - No installation of anything is needed prior to running the notebooks, therefore enabling the possibility to run code on other devices besides a computer; \n",
        "*   If more computational power is needed besides the one provided by our hardware - Google Collab provides some GPU, memory and run time. If they are not enough, it is possible to pay for their premium plan in order to achieve greater computational power.\n",
        "\n",
        "It is better to use Jupyter Notebook when:\n",
        "\n",
        "*   Dealing with sensitive information - When dealing with sensitive information, storing the information in a cloud may be less secure.\n",
        "*   GPU and runtimes are throttled in free Google Collab accounts - While using Jupyter Notebook the computational power is somewhat stable. However, Google Collab does not guarantee that computational power is always the same, it may fluctuate."
      ],
      "metadata": {
        "id": "xYFcc1dJXYSs"
      }
    },
    {
      "cell_type": "markdown",
      "source": [
        "The biggest difference between these two platforms is the fact that Google Collab is cloud-based, whereas Jupyter Notebook runs on our local hardware.\n",
        "It is better to use Google Collab when:\n",
        "\n",
        "*   A lot of collaboration is needed - Since it runs in the cloud, there is no need to install anything. Therefore, anyone may open the notebooks without downloading any software;\n",
        "*   There is a necessity to have the files backed up in a cloud system - Since it runs in the cloud, the files are automatically saved;\n",
        "*   Run code in a smartphone or a tablet - No installation of anything is needed prior to running the notebooks, therefore enabling the possibility to run code on other devices besides a computer; \n",
        "*   If more computational power is needed besides the one provided by our hardware - Google Collab provides some GPU, memory and run time. If they are not enough, it is possible to pay for their premium plan in order to achieve greater computational power.\n",
        "\n",
        "It is better to use Jupyter Notebook when:\n",
        "\n",
        "*   Dealing with sensitive information - When dealing with sensitive information, storing the information in a cloud may be less secure.\n",
        "*   GPU and runtimes are throttled in free Google Collab accounts - While using Jupyter Notebook the computational power is somewhat stable. However, Google Collab does not guarantee that computational power is always the same, it may fluctuate."
      ],
      "metadata": {
        "id": "mZlRxzE9XUka"
      }
    },
    {
      "cell_type": "markdown",
      "metadata": {
        "id": "Sl0krfG6pFH6"
      },
      "source": [
        "**8)** Enter your GitHub repository webpage."
      ]
    },
    {
      "cell_type": "code",
      "execution_count": null,
      "metadata": {
        "id": "qzpbDjdILQ4P"
      },
      "outputs": [],
      "source": []
    }
  ],
  "metadata": {
    "colab": {
      "provenance": []
    },
    "kernelspec": {
      "display_name": "Python 3",
      "language": "python",
      "name": "python3"
    },
    "language_info": {
      "codemirror_mode": {
        "name": "ipython",
        "version": 3
      },
      "file_extension": ".py",
      "mimetype": "text/x-python",
      "name": "python",
      "nbconvert_exporter": "python",
      "pygments_lexer": "ipython3",
      "version": "3.7.6"
    }
  },
  "nbformat": 4,
  "nbformat_minor": 0
}