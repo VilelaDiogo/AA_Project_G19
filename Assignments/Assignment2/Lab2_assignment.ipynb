{
  "cells": [
    {
      "cell_type": "markdown",
      "metadata": {
        "id": "JV5YbbVNlCLl"
      },
      "source": [
        "# Laboratory Session 2 -- Assignment\n",
        "\n",
        "To be delivered until 2022-12-16 23:59:59."
      ]
    },
    {
      "cell_type": "markdown",
      "metadata": {
        "id": "A746fsNRldR4"
      },
      "source": [
        "## Section 1 -- Linear Regression\n",
        "\n",
        "**1.** Consider a dataset with 100 observations, containing a single predictor and a quantitative response. Two different models are fitted to the data, a linear regression ($m_1: Y = \\beta_0 + \\beta_1 X + \\epsilon$) and a cubic regression ($m_2: Y = \\beta_0 + \\beta_1 X + \\beta_2 X^2 + \\beta_3 X^3 + \\epsilon$)."
      ]
    },
    {
      "cell_type": "markdown",
      "metadata": {
        "id": "gOuCfx3sm8hZ"
      },
      "source": [
        "**1.a)** Suppose that the actual relation between X and Y is linear. Can the **training** residual sum of squares (RSS) of the linear model be expected to be smaller, larger or equal to the one from the cubic model? Or is there no information to tell? Justify your answer."
      ]
    },
    {
      "cell_type": "code",
      "execution_count": null,
      "metadata": {
        "id": "h6V7QbAN6BIt"
      },
      "outputs": [],
      "source": [
        "import torch"
      ]
    },
    {
      "cell_type": "markdown",
      "metadata": {
        "id": "f-Z6e3nem88s"
      },
      "source": [
        "**1.b)** Answer question 1.a) considering the test RSS rather than the training RSS."
      ]
    },
    {
      "cell_type": "code",
      "execution_count": null,
      "metadata": {
        "id": "8Ng5yyIL7sUE"
      },
      "outputs": [],
      "source": []
    },
    {
      "cell_type": "markdown",
      "metadata": {
        "id": "gmhX35ckm9St"
      },
      "source": [
        "**1.c)** Suppose that the actual relationship between X and Y is not linear, but it is not known how far it is from being linear. What is it expected of the the **training** RSS for the linear compared with the cubic models? Or is there not enough information? Justify your answer."
      ]
    },
    {
      "cell_type": "code",
      "execution_count": null,
      "metadata": {
        "id": "l3JRaXd28SUz"
      },
      "outputs": [],
      "source": []
    },
    {
      "cell_type": "markdown",
      "metadata": {
        "id": "68b9Gt-Sm9lp"
      },
      "source": [
        "**1.d)** Answer question 1.c) considering the test RSS rather than the training RSS."
      ]
    },
    {
      "cell_type": "code",
      "execution_count": null,
      "metadata": {
        "id": "FWjI9xe36tk2"
      },
      "outputs": [],
      "source": []
    },
    {
      "cell_type": "markdown",
      "metadata": {
        "id": "JlY6gihzHUm5"
      },
      "source": [
        "**2.a)** Load the dataset \"wine.csv\". Do not change the dataset file."
      ]
    },
    {
      "cell_type": "code",
      "execution_count": 2,
      "metadata": {
        "id": "UJxs-3Vp9IhJ"
      },
      "outputs": [],
      "source": [
        "import csv\n",
        "import os\n",
        "import torch\n",
        "import numpy as np\n",
        "from copy import deepcopy\n",
        "from sklearn.linear_model import LinearRegression\n",
        "import matplotlib.pyplot as plt\n",
        "\n",
        "wines_csv = open('winequality.csv', mode='r')\n",
        "wines = csv.reader(wines_csv)\n",
        "wines_list0 = list(wines)"
      ]
    },
    {
      "cell_type": "markdown",
      "metadata": {
        "id": "l80LrS4WLQ4J"
      },
      "source": [
        "**2.b)** Encode the feature \"type\"."
      ]
    },
    {
      "cell_type": "code",
      "execution_count": 15,
      "metadata": {
        "id": "wMc4Q290LQ4J",
        "colab": {
          "base_uri": "https://localhost:8080/"
        },
        "outputId": "70f59502-0ca0-4c3e-895c-6d5910cbcc09"
      },
      "outputs": [
        {
          "output_type": "stream",
          "name": "stdout",
          "text": [
            "{'fixed acidity': 0, 'volatile acidity': 1, 'citric acid': 2, 'residual sugar': 3, 'chlorides': 4, 'free sulfur dioxide': 5, 'total sulfur dioxide': 6, 'density': 7, 'pH': 8, 'sulphates': 9, 'alcohol': 10, 'type': 11, 'quality': 12}\n",
            "[[ 7.4   0.7   0.   ...  9.4   0.    5.  ]\n",
            " [ 7.8   0.88  0.   ...  9.8   0.    5.  ]\n",
            " [ 7.8   0.76  0.04 ...  9.8   0.    5.  ]\n",
            " ...\n",
            " [ 6.5   0.24  0.19 ...  9.4   1.    6.  ]\n",
            " [ 5.5   0.29  0.3  ... 12.8   1.    7.  ]\n",
            " [ 6.    0.21  0.38 ... 11.8   1.    6.  ]]\n"
          ]
        }
      ],
      "source": [
        "wines_list = deepcopy(wines_list0)\n",
        "i = 0\n",
        "\n",
        "for item in wines_list:\n",
        "  wines_list[i] = item[0].split(';')\n",
        "  j = 0\n",
        "  for subitem in wines_list[i]:\n",
        "    try:\n",
        "      wines_list[i][j] = float(subitem)\n",
        "    except:\n",
        "      if subitem == 'red':\n",
        "        wines_list[i][j] = 0\n",
        "      elif subitem == 'white':\n",
        "        wines_list[i][j] = 1\n",
        "      pass\n",
        "    j+=1\n",
        "  i += 1\n",
        "\n",
        "wines_list_np = wines_list\n",
        "features = wines_list_np.pop(0)\n",
        "\n",
        "features_dict = {}\n",
        "for i, feat in enumerate(features): features_dict[feat] = i \n",
        "print(features_dict)\n",
        "\n",
        "wines_list_np = np.array(wines_list_np)\n",
        "\n",
        "\n",
        "\n"
      ]
    },
    {
      "cell_type": "markdown",
      "metadata": {
        "id": "BM90R_i8OCik"
      },
      "source": [
        "**2.c)** Perform a simple linear regression considering *quality* as the response and *pH* as the predictor. Given the results, comment on the following statements:"
      ]
    },
    {
      "cell_type": "code",
      "execution_count": 4,
      "metadata": {
        "id": "teI35X_p9TAM",
        "colab": {
          "base_uri": "https://localhost:8080/",
          "height": 282
        },
        "outputId": "3c3dc210-5c60-4e86-bedd-edeefc6a40dd"
      },
      "outputs": [
        {
          "output_type": "stream",
          "name": "stdout",
          "text": [
            "R^2: 0.00038047247739547707\n"
          ]
        },
        {
          "output_type": "display_data",
          "data": {
            "text/plain": [
              "<Figure size 432x288 with 1 Axes>"
            ],
            "image/png": "[encoded data removed]"
          },
          "metadata": {
            "needs_background": "light"
          }
        }
      ],
      "source": [
        "X = wines_list_np[:,features_dict['pH']].reshape((-1, 1))\n",
        "Y = wines_list_np[:,features_dict['quality']]\n",
        "model = LinearRegression()\n",
        "model.fit(X, Y)\n",
        "r_sq = model.score(X, Y)\n",
        "print(f\"R^2: {r_sq}\")\n",
        "\n",
        "plt.clf()\n",
        "plt.scatter(X, Y, color=\"black\",s=1)\n",
        "xmin = np.amin(X)\n",
        "xmax = np.amax(X)\n",
        "xfit = np.array([xmin, xmax])\n",
        "yfit = model.predict(xfit.reshape((-1,1)))\n",
        "\n",
        "plt.plot(xfit, yfit, color = 'blue')\n",
        "plt.show()"
      ]
    },
    {
      "cell_type": "markdown",
      "metadata": {
        "id": "2BlMbcTJOsDD"
      },
      "source": [
        "    i) Are the predictor and response statistically related?"
      ]
    },
    {
      "cell_type": "code",
      "execution_count": null,
      "metadata": {
        "id": "A8D5lnFP-BFs",
        "colab": {
          "base_uri": "https://localhost:8080/"
        },
        "outputId": "1fd4f5a6-0edc-4ad1-f2d6-52f0645bcc7b"
      },
      "outputs": [
        {
          "output_type": "stream",
          "name": "stdout",
          "text": [
            "Not at all\n"
          ]
        }
      ],
      "source": [
        "print('Not at all')"
      ]
    },
    {
      "cell_type": "markdown",
      "metadata": {
        "id": "ir5VRfrmO8o6"
      },
      "source": [
        "    ii) How strong is the relationship between predictor and response? (*Hint: comment on the R^2 score of the model*)"
      ]
    },
    {
      "cell_type": "code",
      "execution_count": null,
      "metadata": {
        "id": "iAVIppa5_Iyd",
        "colab": {
          "base_uri": "https://localhost:8080/"
        },
        "outputId": "c31709f9-3a6a-4ecc-8d42-8d26595b1544"
      },
      "outputs": [
        {
          "output_type": "stream",
          "name": "stdout",
          "text": [
            "It is bad because: \n",
            "\n",
            "R^2: 0.00038047247739547707\n"
          ]
        }
      ],
      "source": [
        "print('It is bad because: \\n')\n",
        "print(f\"R^2: {r_sq}\")"
      ]
    },
    {
      "cell_type": "markdown",
      "metadata": {
        "id": "D9JSjxC3O8x3"
      },
      "source": [
        "    iii) Is the relationship between the predictor and response positive or negative?"
      ]
    },
    {
      "cell_type": "code",
      "execution_count": null,
      "metadata": {
        "id": "aWlEqpgm_bnN",
        "colab": {
          "base_uri": "https://localhost:8080/"
        },
        "outputId": "45ede34f-c50e-4991-b86c-027c942be1ba"
      },
      "outputs": [
        {
          "output_type": "stream",
          "name": "stdout",
          "text": [
            "model coefficient is  [0.1059379]\n",
            "which is negative so the relationship is negative\n"
          ]
        }
      ],
      "source": [
        "print('model coefficient is ', model.coef_)\n",
        "print('which is negative so the relationship is negative')"
      ]
    },
    {
      "cell_type": "markdown",
      "metadata": {
        "id": "mIzssLawO84u"
      },
      "source": [
        "    iv) What is the predicted value of quality when the pH is 9?"
      ]
    },
    {
      "cell_type": "code",
      "execution_count": null,
      "metadata": {
        "id": "637jEcQD_r7z",
        "colab": {
          "base_uri": "https://localhost:8080/"
        },
        "outputId": "3ef8b509-7fce-4d47-a61e-d98a03a3c687"
      },
      "outputs": [
        {
          "output_type": "stream",
          "name": "stdout",
          "text": [
            "[5.79523019]\n",
            "[33.25140009]\n"
          ]
        }
      ],
      "source": [
        "print(model.predict(np.array([3]).reshape((-1,1))))\n",
        "a1 = model.coef_\n",
        "a2 = model.intercept_\n",
        "\n",
        "def inv_lin(a,b,val):\n",
        "  return (val-b)/a\n",
        "\n",
        "print(inv_lin(a1,a2,9))"
      ]
    },
    {
      "cell_type": "markdown",
      "metadata": {
        "id": "yRYL0_TeQQfp"
      },
      "source": [
        "**2.d)** Plot a scatter plot of the response and predictor, along with the regression line."
      ]
    },
    {
      "cell_type": "code",
      "execution_count": null,
      "metadata": {
        "id": "S7QpN6n1APVa",
        "colab": {
          "base_uri": "https://localhost:8080/",
          "height": 265
        },
        "outputId": "d8aeebd1-8eff-45ef-e43e-0e7814c2097b"
      },
      "outputs": [
        {
          "output_type": "display_data",
          "data": {
            "text/plain": [
              "<Figure size 432x288 with 1 Axes>"
            ],
            "image/png": "[encoded data removed]"
          },
          "metadata": {
            "needs_background": "light"
          }
        }
      ],
      "source": [
        "plt.clf()\n",
        "plt.scatter(X, Y, color=\"black\",s=1)\n",
        "plt.plot(xfit, yfit, color = 'blue')\n",
        "plt.show()"
      ]
    },
    {
      "cell_type": "markdown",
      "metadata": {
        "id": "1xBHkVadQ5Ot"
      },
      "source": [
        "## Section 2 -- Classification"
      ]
    },
    {
      "cell_type": "markdown",
      "metadata": {
        "id": "SIpGTVYkRD9A"
      },
      "source": [
        "**3)** Suppose that a dataset is divided into two equally-sized training and test sets, and then try out two different classification procedures:\n",
        "\n",
        "* The first is the logistic regression, obtaining an error rate of 20% on the training data and 30% on the test data.\n",
        "* The second is a 1-nearest neighbors, with an average error rate (averaged over test and training datasets) of 18%.\n",
        "\n",
        "Based on these results, which method is preferred for classifying new observations? Why?"
      ]
    },
    {
      "cell_type": "markdown",
      "source": [
        "ANSWER: When a 1-nearest neighbors is used (K = 1), the training sample selected is the closest to the test sample. Given that the test sample is in the training dataset, it'll always select itself as the closest and never make a mistake. So, regardless of the dataset, the training error will be zero.\n",
        "Since the average error rate for this method is equal to 18% and the training error rate is 0%, the test error rate is equal to 36%.\n",
        "Even though the training error rate for the 1-nearest neighbors method is smaller than the error rate for logistic regression, the test error rate is greater, making the logistic regression method a better choice."
      ],
      "metadata": {
        "id": "s-e1aCICSJv8"
      }
    },
    {
      "cell_type": "markdown",
      "metadata": {
        "id": "rpJxxZkFSjg3"
      },
      "source": [
        "**4.a)** Create a new column, \"quality7\", that contains a 1 if quality contains a value equal or above 7, and a 0 if quality contains a value below 7. Drop the original column \"quality\"."
      ]
    },
    {
      "cell_type": "code",
      "execution_count": 59,
      "metadata": {
        "id": "h3qCZb_OGTcD",
        "colab": {
          "base_uri": "https://localhost:8080/"
        },
        "outputId": "fcd7c055-13b4-441b-9019-d21cd7e9ba8b"
      },
      "outputs": [
        {
          "output_type": "stream",
          "name": "stdout",
          "text": [
            "        0     1     2    3      4     5      6        7     8     9     10  \\\n",
            "0      7.4  0.70  0.00  1.9  0.076  11.0   34.0  0.99780  3.51  0.56   9.4   \n",
            "1      7.8  0.88  0.00  2.6  0.098  25.0   67.0  0.99680  3.20  0.68   9.8   \n",
            "2      7.8  0.76  0.04  2.3  0.092  15.0   54.0  0.99700  3.26  0.65   9.8   \n",
            "3     11.2  0.28  0.56  1.9  0.075  17.0   60.0  0.99800  3.16  0.58   9.8   \n",
            "4      7.4  0.70  0.00  1.9  0.076  11.0   34.0  0.99780  3.51  0.56   9.4   \n",
            "...    ...   ...   ...  ...    ...   ...    ...      ...   ...   ...   ...   \n",
            "6492   6.2  0.21  0.29  1.6  0.039  24.0   92.0  0.99114  3.27  0.50  11.2   \n",
            "6493   6.6  0.32  0.36  8.0  0.047  57.0  168.0  0.99490  3.15  0.46   9.6   \n",
            "6494   6.5  0.24  0.19  1.2  0.041  30.0  111.0  0.99254  2.99  0.46   9.4   \n",
            "6495   5.5  0.29  0.30  1.1  0.022  20.0  110.0  0.98869  3.34  0.38  12.8   \n",
            "6496   6.0  0.21  0.38  0.8  0.020  22.0   98.0  0.98941  3.26  0.32  11.8   \n",
            "\n",
            "       11   12  \n",
            "0     0.0  0.0  \n",
            "1     0.0  0.0  \n",
            "2     0.0  0.0  \n",
            "3     0.0  0.0  \n",
            "4     0.0  0.0  \n",
            "...   ...  ...  \n",
            "6492  1.0  0.0  \n",
            "6493  1.0  0.0  \n",
            "6494  1.0  0.0  \n",
            "6495  1.0  1.0  \n",
            "6496  1.0  0.0  \n",
            "\n",
            "[6497 rows x 13 columns]\n",
            "[[ 7.4   0.7   0.   ...  9.4   0.    0.  ]\n",
            " [ 7.8   0.88  0.   ...  9.8   0.    0.  ]\n",
            " [ 7.8   0.76  0.04 ...  9.8   0.    0.  ]\n",
            " ...\n",
            " [ 6.5   0.24  0.19 ...  9.4   1.    0.  ]\n",
            " [ 5.5   0.29  0.3  ... 12.8   1.    1.  ]\n",
            " [ 6.    0.21  0.38 ... 11.8   1.    0.  ]]\n"
          ]
        }
      ],
      "source": [
        "import csv\n",
        "import os\n",
        "import torch\n",
        "import numpy as np\n",
        "from copy import deepcopy\n",
        "from sklearn.linear_model import LinearRegression\n",
        "import matplotlib.pyplot as plt\n",
        "import pandas as pd\n",
        "import seaborn as sn\n",
        "\n",
        "wines_csv = open('winequality.csv', mode='r')\n",
        "wines = csv.reader(wines_csv)\n",
        "wines_list0 = list(wines)\n",
        "\n",
        "wines_list = deepcopy(wines_list0)\n",
        "i = 0\n",
        "\n",
        "for item in wines_list:\n",
        "  wines_list[i] = item[0].split(';')\n",
        "  j = 0\n",
        "  for subitem in wines_list[i]:\n",
        "    try:\n",
        "      wines_list[i][j] = float(subitem)\n",
        "    except:\n",
        "      if subitem == 'red':\n",
        "        wines_list[i][j] = 0\n",
        "      elif subitem == 'white':\n",
        "        wines_list[i][j] = 1\n",
        "      pass \n",
        "    j+=1\n",
        "  i += 1\n",
        "\n",
        "wines_list_np = wines_list\n",
        "features = wines_list_np.pop(0)\n",
        "\n",
        "features_dict = {}\n",
        "for i, feat in enumerate(features): features_dict[feat] = i \n",
        "\n",
        "wines_list_np = np.array(wines_list_np)\n",
        "###################################################\n",
        "\n",
        "wines7 =  pd.DataFrame(wines_list_np)\n",
        "h = 0\n",
        "for h in range(len(wines7[12])):\n",
        "  if wines7[12][h] >= 7:\n",
        "    wines7[12][h] = 1\n",
        "  else:\n",
        "    wines7[12][h] = 0\n",
        "  h+=1\n",
        "\n",
        "print(wines7)\n",
        "print(wines_list_np)"
      ]
    },
    {
      "cell_type": "markdown",
      "metadata": {
        "id": "xHvwjfYscqAl"
      },
      "source": [
        "**4.b)** Do a correlation matrix plot between all the columns to evaluate which features are linearly correlated. Consider a statistical significance of 0.1%. Describe your findings, with a focus on evaluating which features are most related with \"quality7\"."
      ]
    },
    {
      "cell_type": "code",
      "execution_count": 60,
      "metadata": {
        "id": "JXN8YYCgGs0K",
        "colab": {
          "base_uri": "https://localhost:8080/",
          "height": 772
        },
        "outputId": "f668e24a-8fd1-4e99-cca0-bf9491d0ab21"
      },
      "outputs": [
        {
          "output_type": "stream",
          "name": "stdout",
          "text": [
            "          0         1         2         3         4         5         6   \\\n",
            "0   1.000000  0.219008  0.324436 -0.111981  0.298195 -0.282735 -0.329054   \n",
            "1   0.219008  1.000000 -0.377981 -0.196011  0.377124 -0.352557 -0.414476   \n",
            "2   0.324436 -0.377981  1.000000  0.142451  0.038998  0.133126  0.195242   \n",
            "3  -0.111981 -0.196011  0.142451  1.000000 -0.128940  0.402871  0.495482   \n",
            "4   0.298195  0.377124  0.038998 -0.128940  1.000000 -0.195045 -0.279630   \n",
            "5  -0.282735 -0.352557  0.133126  0.402871 -0.195045  1.000000  0.720934   \n",
            "6  -0.329054 -0.414476  0.195242  0.495482 -0.279630  0.720934  1.000000   \n",
            "7   0.458910  0.271296  0.096154  0.552517  0.362615  0.025717  0.032395   \n",
            "8  -0.252700  0.261454 -0.329808 -0.267320  0.044708 -0.145854 -0.238413   \n",
            "9   0.299568  0.225984  0.056197 -0.185927  0.395593 -0.188457 -0.275727   \n",
            "10 -0.095452 -0.037640 -0.010493 -0.359415 -0.256916 -0.179838 -0.265740   \n",
            "11 -0.486740 -0.653036  0.187397  0.348821 -0.512678  0.471644  0.700357   \n",
            "12 -0.049447 -0.151714  0.054444 -0.063992 -0.161781  0.014767 -0.051226   \n",
            "\n",
            "          7         8         9         10        11        12  \n",
            "0   0.458910 -0.252700  0.299568 -0.095452 -0.486740 -0.049447  \n",
            "1   0.271296  0.261454  0.225984 -0.037640 -0.653036 -0.151714  \n",
            "2   0.096154 -0.329808  0.056197 -0.010493  0.187397  0.054444  \n",
            "3   0.552517 -0.267320 -0.185927 -0.359415  0.348821 -0.063992  \n",
            "4   0.362615  0.044708  0.395593 -0.256916 -0.512678 -0.161781  \n",
            "5   0.025717 -0.145854 -0.188457 -0.179838  0.471644  0.014767  \n",
            "6   0.032395 -0.238413 -0.275727 -0.265740  0.700357 -0.051226  \n",
            "7   1.000000  0.011686  0.259478 -0.686745 -0.390645 -0.275441  \n",
            "8   0.011686  1.000000  0.192123  0.121248 -0.329129  0.028149  \n",
            "9   0.259478  0.192123  1.000000 -0.003029 -0.487218  0.033971  \n",
            "10 -0.686745  0.121248 -0.003029  1.000000  0.032970  0.390486  \n",
            "11 -0.390645 -0.329129 -0.487218  0.032970  1.000000  0.087479  \n",
            "12 -0.275441  0.028149  0.033971  0.390486  0.087479  1.000000  \n"
          ]
        },
        {
          "output_type": "display_data",
          "data": {
            "text/plain": [
              "<Figure size 432x288 with 2 Axes>"
            ],
            "image/png": "[encoded data removed]"
          },
          "metadata": {
            "needs_background": "light"
          }
        }
      ],
      "source": [
        "corr_matrix = wines7.corr()\n",
        "print(corr_matrix)\n",
        "sn.heatmap(corr_matrix, annot=True)\n",
        "plt.show()"
      ]
    },
    {
      "cell_type": "markdown",
      "source": [
        "0 indicates no linear correlation between two variables. 1 indicates a perfectly positive linear correlation between two variables.\n",
        "A statistically significant test result (P ≤ 0.001) means that the test hypothesis is false or should be rejected."
      ],
      "metadata": {
        "id": "OcSUlLGxPZM1"
      }
    },
    {
      "cell_type": "markdown",
      "metadata": {
        "id": "8168IcmcSjd4"
      },
      "source": [
        "**4.c)** Create the inputs as all the predictors and outputs as the \"quality7\" feature. Split the data into test and training datasets. Consider a test dataset comprised of 30% of the whole dataset."
      ]
    },
    {
      "cell_type": "code",
      "execution_count": 66,
      "metadata": {
        "id": "Zmk2OAC3w-W6",
        "colab": {
          "base_uri": "https://localhost:8080/"
        },
        "outputId": "b02ea51f-23e4-459d-846e-9fb92f011ca8"
      },
      "outputs": [
        {
          "output_type": "stream",
          "name": "stdout",
          "text": [
            "Testing\n",
            "(1949,)\n",
            "(1949, 12)\n",
            "Training\n",
            "(4548,)\n",
            "(4548, 12)\n"
          ]
        }
      ],
      "source": [
        "training_data = wines7.sample(frac=0.7, random_state=25)\n",
        "testing_data = wines7.drop(training_data.index)\n",
        "\n",
        "training_data_np = training_data.to_numpy()\n",
        "testing_data_np = testing_data.to_numpy()\n",
        "\n",
        "X_training = training_data_np[:,:12]\n",
        "X_testing = testing_data_np[:,:12]\n",
        "\n",
        "Y_training = training_data_np[:,12]\n",
        "Y_testing = testing_data_np[:,12]\n",
        "\n",
        "#training_data = wines7.sample(frac=0.7, random_state=25)\n",
        "#testing_data = wines7.drop(training_data.index)\n",
        "\n",
        "print('Testing')\n",
        "print(Y_testing.shape)\n",
        "print(X_testing.shape)\n",
        "\n",
        "print('Training')\n",
        "print(Y_training.shape)\n",
        "print(X_training.shape)\n"
      ]
    },
    {
      "cell_type": "markdown",
      "metadata": {
        "id": "IWepa-QISjbZ"
      },
      "source": [
        "**4.d)** Perform LDA on the training data in order to predict \"quality7\" using the remaining variables. What is the test error of the model obtained?"
      ]
    },
    {
      "cell_type": "code",
      "execution_count": 65,
      "metadata": {
        "id": "bQquLCRDyizP",
        "colab": {
          "base_uri": "https://localhost:8080/"
        },
        "outputId": "ff1675c5-5a21-4887-ac30-05116a70e7ae"
      },
      "outputs": [
        {
          "output_type": "stream",
          "name": "stdout",
          "text": [
            "[[11.1   0.35  0.48 ...  0.53 10.5   0.  ]\n",
            " [ 7.6   0.29  0.49 ...  0.61 10.1   0.  ]\n",
            " [ 7.7   0.25  0.49 ...  0.57 10.6   1.  ]\n",
            " ...\n",
            " [ 7.7   0.31  0.23 ...  0.62  9.8   1.  ]\n",
            " [ 7.    0.39  0.24 ...  0.31 10.1   1.  ]\n",
            " [ 7.8   0.22  0.38 ...  0.47 10.    1.  ]]\n",
            "[[-0.27856395]\n",
            " [-1.83168031]\n",
            " [-0.25963926]\n",
            " ...\n",
            " [-0.29888891]\n",
            " [-1.12621123]\n",
            " [-0.51476731]]\n"
          ]
        }
      ],
      "source": [
        "from sklearn.preprocessing import StandardScaler\n",
        "from sklearn.discriminant_analysis import LinearDiscriminantAnalysis as LDA\n",
        "\n",
        "sc = StandardScaler()\n",
        "X_train = sc.fit_transform(X_training)\n",
        "X_test = sc.transform(X_testing)\n",
        "\n",
        "lda = LDA(n_components=1)\n",
        "X_train = lda.fit_transform(X_train, Y_training)\n",
        "X_test = lda.transform(X_test)\n",
        "\n",
        "print(X_training)\n",
        "print(X_test)\n"
      ]
    },
    {
      "cell_type": "markdown",
      "metadata": {
        "id": "YWiMguFvSjWE"
      },
      "source": [
        "**4.e)** Perform QDA on the training data in order to predict \"quality7\" using the remaining variables. What is the test error of the model obtained?"
      ]
    },
    {
      "cell_type": "code",
      "execution_count": 50,
      "metadata": {
        "id": "bvzDUm5sze_l"
      },
      "outputs": [],
      "source": []
    },
    {
      "cell_type": "markdown",
      "metadata": {
        "id": "DFAhEuhSSjOz"
      },
      "source": [
        "**4.f)** Perform logistic regression on the training data in order to predict \"quality7\" using the remaining variables. What is the test error of the model obtained?"
      ]
    },
    {
      "cell_type": "code",
      "execution_count": 50,
      "metadata": {
        "id": "7oVkI9QUzufY"
      },
      "outputs": [],
      "source": []
    },
    {
      "cell_type": "markdown",
      "metadata": {
        "id": "dJUvW41ViqMc"
      },
      "source": [
        "**4.g)** Perform naive Bayes on the training data in order to predict \"quality7\" using the remaining variables. What is the test error of the model obtained?"
      ]
    },
    {
      "cell_type": "code",
      "execution_count": null,
      "metadata": {
        "id": "U6pzjPGc1y_t"
      },
      "outputs": [],
      "source": []
    },
    {
      "cell_type": "markdown",
      "metadata": {
        "id": "tPRBsCLviqKm"
      },
      "source": [
        "**4.h)** Perform KNN on the training data, with several values of K, in order to predict \"quality7\" using the remaining variables. What test errors are obtained? Which value of K seems to perform the best on this data set?"
      ]
    },
    {
      "cell_type": "code",
      "execution_count": 65,
      "metadata": {
        "id": "KCXGQmN52G7W"
      },
      "outputs": [],
      "source": []
    },
    {
      "cell_type": "markdown",
      "metadata": {
        "id": "nvhamoK0i2WZ"
      },
      "source": [
        "**4.i)** Calculate the area under curve (AUC) for the LDA, QDA, logistic regression, naive Bayes and for the best value of K for the KNN method. Compare the results."
      ]
    },
    {
      "cell_type": "code",
      "execution_count": null,
      "metadata": {
        "id": "1rxOt0MU8DCK"
      },
      "outputs": [],
      "source": []
    },
    {
      "cell_type": "markdown",
      "metadata": {
        "id": "zxJtXEh6LQ4N"
      },
      "source": [
        "**4.j)** Plot the ROC curves for the 5 methods. Compare the results."
      ]
    },
    {
      "cell_type": "code",
      "execution_count": null,
      "metadata": {
        "id": "iNXZovNn8Wlv"
      },
      "outputs": [],
      "source": []
    },
    {
      "cell_type": "markdown",
      "metadata": {
        "id": "jEtBKnHni2GT"
      },
      "source": [
        "## Section 3 -- Bootstrap and k-Fold"
      ]
    },
    {
      "cell_type": "markdown",
      "metadata": {
        "id": "AyCSRMx2pDsm"
      },
      "source": [
        "**5.a)** Explain how the leave-one-out cross validation (LOOCV) is implemented."
      ]
    },
    {
      "cell_type": "code",
      "execution_count": null,
      "metadata": {
        "id": "Bh8t6HC49HIl"
      },
      "outputs": [],
      "source": []
    },
    {
      "cell_type": "markdown",
      "metadata": {
        "id": "MbIethdmpcwr"
      },
      "source": [
        "**5.b)** What are the advantages and disadvantages of k-Fold cross-validation relative to:\n",
        "\n",
        "1. Validation set approach.\n",
        "2. Leave One Out Cross-Validation (LOOCV)"
      ]
    },
    {
      "cell_type": "code",
      "execution_count": null,
      "metadata": {
        "id": "F_U7i3m1MYWh"
      },
      "outputs": [],
      "source": []
    },
    {
      "cell_type": "markdown",
      "metadata": {
        "id": "jOcCUxFMpAGw"
      },
      "source": [
        "## Section 4 -- Other Questions"
      ]
    },
    {
      "cell_type": "markdown",
      "metadata": {
        "id": "jUkJU0D7pFWO"
      },
      "source": [
        "**6)** In your group's option, what are the advantages and disadvantages of using a virtual environment when programming in Python?"
      ]
    },
    {
      "cell_type": "code",
      "execution_count": null,
      "metadata": {
        "id": "4gyfaAIi9KVM"
      },
      "outputs": [],
      "source": []
    },
    {
      "cell_type": "markdown",
      "metadata": {
        "id": "W8dWu7BXpFTc"
      },
      "source": [
        "**7)** In your group's opinion, in what circumstances is it better to use Jupyter Notebooks and when is it better to use Google Colab notebooks? Give some specific examples."
      ]
    },
    {
      "cell_type": "code",
      "execution_count": null,
      "metadata": {
        "id": "rtVRKNrS9vYB"
      },
      "outputs": [],
      "source": []
    },
    {
      "cell_type": "markdown",
      "metadata": {
        "id": "Sl0krfG6pFH6"
      },
      "source": [
        "**8)** Enter your GitHub repository webpage."
      ]
    },
    {
      "cell_type": "code",
      "execution_count": null,
      "metadata": {
        "id": "qzpbDjdILQ4P"
      },
      "outputs": [],
      "source": []
    }
  ],
  "metadata": {
    "colab": {
      "provenance": [],
      "collapsed_sections": [
        "jEtBKnHni2GT",
        "jOcCUxFMpAGw"
      ]
    },
    "kernelspec": {
      "display_name": "Python 3",
      "language": "python",
      "name": "python3"
    },
    "language_info": {
      "codemirror_mode": {
        "name": "ipython",
        "version": 3
      },
      "file_extension": ".py",
      "mimetype": "text/x-python",
      "name": "python",
      "nbconvert_exporter": "python",
      "pygments_lexer": "ipython3",
      "version": "3.7.6"
    }
  },
  "nbformat": 4,
  "nbformat_minor": 0
}